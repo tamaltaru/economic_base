{
 "cells": [
  {
   "cell_type": "code",
   "execution_count": 49,
   "metadata": {
    "collapsed": true
   },
   "outputs": [],
   "source": [
    "import pandas as pd"
   ]
  },
  {
   "cell_type": "code",
   "execution_count": 50,
   "metadata": {
    "collapsed": false
   },
   "outputs": [
    {
     "data": {
      "text/plain": [
       "GEO.id                  object\n",
       "GEO.id2                float64\n",
       "GEO.display-label       object\n",
       "NAICS.id                object\n",
       "NAICS.display-label     object\n",
       "OPTAX.id                object\n",
       "OPTAX.display-label     object\n",
       "YEAR.id                  int64\n",
       "ESTAB                   object\n",
       "RCPTOT                  object\n",
       "PAYANN                  object\n",
       "EMP                     object\n",
       "NESTAB                  object\n",
       "NRCPTOT                 object\n",
       "dtype: object"
      ]
     },
     "execution_count": 50,
     "metadata": {},
     "output_type": "execute_result"
    }
   ],
   "source": [
    "four= pd.DataFrame.from_csv(\"C:\\Users\\Debmalya\\Documents\\GitHub\\economic_base\\data\\\\4_digit.csv\", header= 0, index_col= None)\n",
    "#len(four)\n",
    "four.dtypes"
   ]
  },
  {
   "cell_type": "code",
   "execution_count": 56,
   "metadata": {
    "collapsed": false
   },
   "outputs": [],
   "source": [
    "four= four[(four[\"OPTAX.id\"] != \"10\") & (four[\"OPTAX.id\"] != \"20\") & (four[\"OPTAX.id\"] != \"T\") & (four[\"OPTAX.id\"] != \"Y\")]\n",
    "#len(four) # the above to select specific data"
   ]
  },
  {
   "cell_type": "code",
   "execution_count": 57,
   "metadata": {
    "collapsed": false
   },
   "outputs": [],
   "source": [
    "US= four[four[\"GEO.display-label\"]==\"United States\"]\n",
    "US= US[[\"NAICS.id\", \"EMP\"]] # remember during column subset two brackets, like getitem\n",
    "US.rename(columns={'EMP': 'US_EMP'}, inplace=True) # rename columns\n",
    "#US.head()"
   ]
  },
  {
   "cell_type": "code",
   "execution_count": 58,
   "metadata": {
    "collapsed": false
   },
   "outputs": [],
   "source": [
    "KINGS= four[four[\"GEO.display-label\"]== \"Kings County, California\"]\n",
    "KINGS= KINGS[[\"NAICS.id\", \"EMP\"]]\n",
    "KINGS.rename(columns= {\"EMP\" : \"KINGS_EMP\"}, inplace= True) # renaming a column\n",
    "#KINGS.head()"
   ]
  },
  {
   "cell_type": "code",
   "execution_count": 59,
   "metadata": {
    "collapsed": false
   },
   "outputs": [],
   "source": [
    "m=US.merge(KINGS, on= \"NAICS.id\", how= 'outer') # outer joinn to keep everything\n",
    "#m"
   ]
  },
  {
   "cell_type": "code",
   "execution_count": 60,
   "metadata": {
    "collapsed": false
   },
   "outputs": [],
   "source": [
    "agri_us= pd.DataFrame.from_csv(\"C:\\Users\\Debmalya\\Documents\\GitHub\\economic_base\\data\\\\agri_us.csv\", header= 0, index_col= None)\n",
    "#agri_us.head()\n",
    "agri_us[[\"NAICS code\"]]= agri_us[[\"NAICS code\"]].astype(str)                                     # preparaton for the next line\n",
    "four_dig = (agri_us[\"NAICS code\"].str.len() == 4)                                           # to find only the four digit codes\n",
    "us_agri= agri_us.loc[four_dig]                                                                    # subsetting by the list made\n",
    "us_agri=us_agri.rename(columns = {'Paid employees for pay period including March 12 (number)':'US_EMP',\n",
    "                                  'NAICS code':'NAICS.id' })\n",
    "us_agri= us_agri[['NAICS.id', 'US_EMP']]\n",
    "#us_agri.head()"
   ]
  },
  {
   "cell_type": "code",
   "execution_count": 61,
   "metadata": {
    "collapsed": false
   },
   "outputs": [],
   "source": [
    "agri_kings= pd.DataFrame.from_csv(\"C:\\Users\\Debmalya\\Documents\\GitHub\\economic_base\\data\\\\agri_kings.csv\", \n",
    "                                  header= 0, index_col= None)\n",
    "#agri_kings\n",
    "agri_kings[[\"NAICS code\"]]= agri_kings[[\"NAICS code\"]].astype(str)\n",
    "four_digt = (agri_kings[\"NAICS code\"].str.len() == 4)\n",
    "kings_agri= agri_kings.loc[four_digt]\n",
    "kings_agri= kings_agri.rename(columns = {'Paid employees for pay period including March 12 (number)':'KINGS_EMP',\n",
    "                                        'NAICS code':'NAICS.id'})\n",
    "kings_agri= kings_agri[['NAICS.id', 'KINGS_EMP']]\n",
    "#kings_agri"
   ]
  },
  {
   "cell_type": "code",
   "execution_count": 62,
   "metadata": {
    "collapsed": false
   },
   "outputs": [],
   "source": [
    "agri=us_agri.merge(kings_agri, on= \"NAICS.id\", how= 'outer')\n",
    "#agri"
   ]
  },
  {
   "cell_type": "code",
   "execution_count": 63,
   "metadata": {
    "collapsed": false
   },
   "outputs": [],
   "source": [
    "occu= [agri,m]\n",
    "full= pd.concat(occu, ignore_index= True) # concat is rbind\n",
    "#full"
   ]
  },
  {
   "cell_type": "code",
   "execution_count": 64,
   "metadata": {
    "collapsed": false
   },
   "outputs": [],
   "source": [
    "full.replace(to_replace=\"b\", value= '60', inplace=True)  # (20+100)/2\n",
    "full.replace(to_replace=\"c\", value= '175', inplace=True) # (100+250)/2\n",
    "full.replace(to_replace=\"e\", value= '375', inplace=True) # (250+500)/2\n",
    "full.replace(to_replace=\"f\", value= '750', inplace=True) # (500+1000)/2\n",
    "full.replace(to_replace=\"g\", value= '1750', inplace=True)# (1000+2500)/2\n",
    "full.replace(to_replace=\"h\", value= '3750', inplace=True)# (2500+5000)/2\n",
    "full.replace(to_replace=\"i\", value= '7500', inplace=True)# (5000+10000)/2\n",
    "full.replace(to_replace=\"j\", value= '17500', inplace=True) # (10000+25000)/2\n",
    "full.replace(to_replace=\"m\", value= '100000', inplace=True)\n",
    "# and to replace the strings of avg values"
   ]
  },
  {
   "cell_type": "code",
   "execution_count": 65,
   "metadata": {
    "collapsed": false
   },
   "outputs": [],
   "source": [
    "# to replace bad data, found from inspection\n",
    "full.replace(to_replace=\"19062(r)\", value= '19062', inplace=True)"
   ]
  },
  {
   "cell_type": "code",
   "execution_count": 66,
   "metadata": {
    "collapsed": false
   },
   "outputs": [
    {
     "data": {
      "text/plain": [
       "NAICS.id      object\n",
       "US_EMP       float64\n",
       "KINGS_EMP    float64\n",
       "dtype: object"
      ]
     },
     "execution_count": 66,
     "metadata": {},
     "output_type": "execute_result"
    }
   ],
   "source": [
    "full[[\"US_EMP\"]]= full[[\"US_EMP\"]].astype(float)\n",
    "full[[\"KINGS_EMP\"]]= full[[\"KINGS_EMP\"]].astype(float)\n",
    "full.dtypes"
   ]
  },
  {
   "cell_type": "code",
   "execution_count": 67,
   "metadata": {
    "collapsed": false
   },
   "outputs": [
    {
     "data": {
      "text/plain": [
       "108453760.0"
      ]
     },
     "execution_count": 67,
     "metadata": {},
     "output_type": "execute_result"
    }
   ],
   "source": [
    "USTotal= full.US_EMP.sum()\n",
    "KINGSTotal= full.KINGS_EMP.sum()\n",
    "USTotal"
   ]
  },
  {
   "cell_type": "code",
   "execution_count": 68,
   "metadata": {
    "collapsed": false
   },
   "outputs": [
    {
     "data": {
      "text/plain": [
       "15263.0"
      ]
     },
     "execution_count": 68,
     "metadata": {},
     "output_type": "execute_result"
    }
   ],
   "source": [
    "KINGSTotal"
   ]
  },
  {
   "cell_type": "code",
   "execution_count": 69,
   "metadata": {
    "collapsed": true
   },
   "outputs": [],
   "source": [
    "full[\"KINGS_e\"]= full[\"KINGS_EMP\"]/ KINGSTotal\n",
    "full[\"KINGS_E\"]= full[\"US_EMP\"]/ USTotal\n",
    "full[\"Kings_LQ\"]= full[\"KINGS_e\"]/ full[\"KINGS_E\"]\n",
    "full[\"KINGS_bi\"]= ((full[\"Kings_LQ\"]- 1)/full[\"Kings_LQ\"])*full[\"KINGS_EMP\"]"
   ]
  },
  {
   "cell_type": "code",
   "execution_count": 70,
   "metadata": {
    "collapsed": true
   },
   "outputs": [],
   "source": [
    "small= full[full.KINGS_bi >=0]"
   ]
  },
  {
   "cell_type": "code",
   "execution_count": 71,
   "metadata": {
    "collapsed": false
   },
   "outputs": [
    {
     "data": {
      "text/plain": [
       "1.4893133800031626"
      ]
     },
     "execution_count": 71,
     "metadata": {},
     "output_type": "execute_result"
    }
   ],
   "source": [
    "KINGS_bi_sum=small.KINGS_bi.sum()\n",
    "KINGS_BM=KINGSTotal/KINGS_bi_sum\n",
    "KINGS_BM"
   ]
  }
 ],
 "metadata": {
  "kernelspec": {
   "display_name": "Python 2",
   "language": "python",
   "name": "python2"
  },
  "language_info": {
   "codemirror_mode": {
    "name": "ipython",
    "version": 2
   },
   "file_extension": ".py",
   "mimetype": "text/x-python",
   "name": "python",
   "nbconvert_exporter": "python",
   "pygments_lexer": "ipython2",
   "version": "2.7.9"
  }
 },
 "nbformat": 4,
 "nbformat_minor": 0
}
