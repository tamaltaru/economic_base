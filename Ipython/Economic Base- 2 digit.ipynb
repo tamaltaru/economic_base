{
 "cells": [
  {
   "cell_type": "code",
   "execution_count": 1,
   "metadata": {
    "collapsed": true
   },
   "outputs": [],
   "source": [
    "import pandas as pd\n",
    "import glob"
   ]
  },
  {
   "cell_type": "code",
   "execution_count": 34,
   "metadata": {
    "collapsed": false,
    "scrolled": true
   },
   "outputs": [],
   "source": [
    "# before two digit, escape characters\n",
    "twodig = pd.DataFrame.from_csv(\"C:\\Users\\Debmalya\\Documents\\GitHub\\economic_base\\data\\\\2_digit.csv\", header= 0, index_col= None)\n",
    "#twodig"
   ]
  },
  {
   "cell_type": "code",
   "execution_count": 8,
   "metadata": {
    "collapsed": false
   },
   "outputs": [
    {
     "data": {
      "text/plain": [
       "GEO.id                  object\n",
       "GEO.id2                float64\n",
       "GEO.display-label       object\n",
       "NAICS.id                object\n",
       "NAICS.display-label     object\n",
       "OPTAX.id                object\n",
       "OPTAX.display-label     object\n",
       "YEAR.id                  int64\n",
       "ESTAB                   object\n",
       "RCPTOT                  object\n",
       "PAYANN                  object\n",
       "EMP                     object\n",
       "NESTAB                  object\n",
       "NRCPTOT                 object\n",
       "dtype: object"
      ]
     },
     "execution_count": 8,
     "metadata": {},
     "output_type": "execute_result"
    }
   ],
   "source": [
    "twodig.dtypes"
   ]
  },
  {
   "cell_type": "code",
   "execution_count": 35,
   "metadata": {
    "collapsed": false
   },
   "outputs": [],
   "source": [
    "twodig= twodig[(twodig[\"OPTAX.id\"] != \"10\") & (twodig[\"OPTAX.id\"] != \"20\") &(twodig[\"OPTAX.id\"] != \"T\") & (twodig[\"OPTAX.id\"] != \"Y\")]\n",
    "#twodig"
   ]
  },
  {
   "cell_type": "code",
   "execution_count": 33,
   "metadata": {
    "collapsed": false
   },
   "outputs": [],
   "source": [
    "US= twodig[twodig[\"GEO.display-label\"]==\"United States\"]\n",
    "US= US[[\"NAICS.id\", \"EMP\"]] # remember during column subset two brackets, like getitem\n",
    "US.rename(columns={'EMP': 'US_EMP'}, inplace=True) # rename columns\n",
    "#US"
   ]
  },
  {
   "cell_type": "code",
   "execution_count": 50,
   "metadata": {
    "collapsed": false
   },
   "outputs": [
    {
     "data": {
      "text/html": [
       "<div style=\"max-height:1000px;max-width:1500px;overflow:auto;\">\n",
       "<table border=\"1\" class=\"dataframe\">\n",
       "  <thead>\n",
       "    <tr style=\"text-align: right;\">\n",
       "      <th></th>\n",
       "      <th>NAICS.id</th>\n",
       "      <th>KINGS_EMP</th>\n",
       "    </tr>\n",
       "  </thead>\n",
       "  <tbody>\n",
       "    <tr>\n",
       "      <th>30</th>\n",
       "      <td> 31-33</td>\n",
       "      <td> 4291</td>\n",
       "    </tr>\n",
       "    <tr>\n",
       "      <th>32</th>\n",
       "      <td> 44-45</td>\n",
       "      <td> 4267</td>\n",
       "    </tr>\n",
       "    <tr>\n",
       "      <th>33</th>\n",
       "      <td>    51</td>\n",
       "      <td>  347</td>\n",
       "    </tr>\n",
       "    <tr>\n",
       "      <th>34</th>\n",
       "      <td>    53</td>\n",
       "      <td>  343</td>\n",
       "    </tr>\n",
       "    <tr>\n",
       "      <th>35</th>\n",
       "      <td>    54</td>\n",
       "      <td>  535</td>\n",
       "    </tr>\n",
       "  </tbody>\n",
       "</table>\n",
       "</div>"
      ],
      "text/plain": [
       "   NAICS.id KINGS_EMP\n",
       "30    31-33      4291\n",
       "32    44-45      4267\n",
       "33       51       347\n",
       "34       53       343\n",
       "35       54       535"
      ]
     },
     "execution_count": 50,
     "metadata": {},
     "output_type": "execute_result"
    }
   ],
   "source": [
    "KINGS= twodig[twodig[\"GEO.display-label\"]==\"Kings County, California\"]\n",
    "KINGS= KINGS[[\"NAICS.id\", \"EMP\"]] # remember during column subset two brackets, like getitem\n",
    "KINGS.rename(columns= {'EMP' : 'KINGS_EMP'}, inplace = True)\n",
    "#KINGS.head()"
   ]
  },
  {
   "cell_type": "code",
   "execution_count": null,
   "metadata": {
    "collapsed": true
   },
   "outputs": [],
   "source": []
  },
  {
   "cell_type": "code",
   "execution_count": 48,
   "metadata": {
    "collapsed": false
   },
   "outputs": [],
   "source": [
    "m=US.merge(KINGS, on= \"NAICS.id\", how= 'outer')\n",
    "#m"
   ]
  },
  {
   "cell_type": "code",
   "execution_count": 51,
   "metadata": {
    "collapsed": false
   },
   "outputs": [
    {
     "data": {
      "text/html": [
       "<div style=\"max-height:1000px;max-width:1500px;overflow:auto;\">\n",
       "<table border=\"1\" class=\"dataframe\">\n",
       "  <thead>\n",
       "    <tr style=\"text-align: right;\">\n",
       "      <th></th>\n",
       "      <th>NAICS.id</th>\n",
       "      <th>US_EMP</th>\n",
       "      <th>KINGS_EMP</th>\n",
       "    </tr>\n",
       "  </thead>\n",
       "  <tbody>\n",
       "    <tr>\n",
       "      <th>0</th>\n",
       "      <td>    21</td>\n",
       "      <td>   730433</td>\n",
       "      <td>  NaN</td>\n",
       "    </tr>\n",
       "    <tr>\n",
       "      <th>1</th>\n",
       "      <td>    22</td>\n",
       "      <td>   637247</td>\n",
       "      <td>  NaN</td>\n",
       "    </tr>\n",
       "    <tr>\n",
       "      <th>2</th>\n",
       "      <td>    23</td>\n",
       "      <td>  7316240</td>\n",
       "      <td>  NaN</td>\n",
       "    </tr>\n",
       "    <tr>\n",
       "      <th>3</th>\n",
       "      <td> 31-33</td>\n",
       "      <td> 13395670</td>\n",
       "      <td> 4291</td>\n",
       "    </tr>\n",
       "    <tr>\n",
       "      <th>4</th>\n",
       "      <td>    42</td>\n",
       "      <td>  6227389</td>\n",
       "      <td>  NaN</td>\n",
       "    </tr>\n",
       "  </tbody>\n",
       "</table>\n",
       "</div>"
      ],
      "text/plain": [
       "  NAICS.id    US_EMP KINGS_EMP\n",
       "0       21    730433       NaN\n",
       "1       22    637247       NaN\n",
       "2       23   7316240       NaN\n",
       "3    31-33  13395670      4291\n",
       "4       42   6227389       NaN"
      ]
     },
     "execution_count": 51,
     "metadata": {},
     "output_type": "execute_result"
    }
   ],
   "source": [
    "m.loc[8,'US_EMP'] = \"6607511\" # when using index, no quotes\n",
    "m.loc[13, 'KINGS_EMP']= \"175\"\n",
    "m.head()"
   ]
  },
  {
   "cell_type": "code",
   "execution_count": 55,
   "metadata": {
    "collapsed": false
   },
   "outputs": [
    {
     "data": {
      "text/html": [
       "<div style=\"max-height:1000px;max-width:1500px;overflow:auto;\">\n",
       "<table border=\"1\" class=\"dataframe\">\n",
       "  <thead>\n",
       "    <tr style=\"text-align: right;\">\n",
       "      <th></th>\n",
       "      <th>NAICS.id</th>\n",
       "      <th>US_EMP</th>\n",
       "      <th>KINGS_EMP</th>\n",
       "    </tr>\n",
       "  </thead>\n",
       "  <tbody>\n",
       "    <tr>\n",
       "      <th>0</th>\n",
       "      <td>    11</td>\n",
       "      <td>   172105</td>\n",
       "      <td>  678</td>\n",
       "    </tr>\n",
       "    <tr>\n",
       "      <th>1</th>\n",
       "      <td>    21</td>\n",
       "      <td>   730433</td>\n",
       "      <td>  NaN</td>\n",
       "    </tr>\n",
       "    <tr>\n",
       "      <th>2</th>\n",
       "      <td>    22</td>\n",
       "      <td>   637247</td>\n",
       "      <td>  NaN</td>\n",
       "    </tr>\n",
       "    <tr>\n",
       "      <th>3</th>\n",
       "      <td>    23</td>\n",
       "      <td>  7316240</td>\n",
       "      <td>  NaN</td>\n",
       "    </tr>\n",
       "    <tr>\n",
       "      <th>4</th>\n",
       "      <td> 31-33</td>\n",
       "      <td> 13395670</td>\n",
       "      <td> 4291</td>\n",
       "    </tr>\n",
       "  </tbody>\n",
       "</table>\n",
       "</div>"
      ],
      "text/plain": [
       "  NAICS.id    US_EMP KINGS_EMP\n",
       "0       11    172105       678\n",
       "1       21    730433       NaN\n",
       "2       22    637247       NaN\n",
       "3       23   7316240       NaN\n",
       "4    31-33  13395670      4291"
      ]
     },
     "execution_count": 55,
     "metadata": {},
     "output_type": "execute_result"
    }
   ],
   "source": [
    "agri= pd.DataFrame([[11,172105,678]], columns=[\"NAICS.id\",\"US_EMP\",\"KINGS_EMP\"])\n",
    "l= [agri,m]\n",
    "full= pd.concat(l, ignore_index= True)\n",
    "#full.head()"
   ]
  },
  {
   "cell_type": "code",
   "execution_count": 58,
   "metadata": {
    "collapsed": false
   },
   "outputs": [
    {
     "data": {
      "text/plain": [
       "116000333.0"
      ]
     },
     "execution_count": 58,
     "metadata": {},
     "output_type": "execute_result"
    }
   ],
   "source": [
    "full[[\"US_EMP\"]]= full[[\"US_EMP\"]].astype(float)\n",
    "full[[\"KINGS_EMP\"]]= full[[\"KINGS_EMP\"]].astype(float)\n",
    "USTotal= full.US_EMP.sum()\n",
    "KINGSTotal= full.KINGS_EMP.sum()\n",
    "USTotal"
   ]
  },
  {
   "cell_type": "code",
   "execution_count": 59,
   "metadata": {
    "collapsed": false
   },
   "outputs": [
    {
     "data": {
      "text/plain": [
       "20584.0"
      ]
     },
     "execution_count": 59,
     "metadata": {},
     "output_type": "execute_result"
    }
   ],
   "source": [
    "KINGSTotal\n",
    "clean_data$Kings_e<-clean_data$Kings_EMP/Kings_total\n",
    "clean_data$Kings_E<-clean_data$US_EMP/us_total\n",
    "clean_data$Kings_LQ<-clean_data$Kings_e/clean_data$Kings_E\n",
    "clean_data$Kings_bi<-((clean_data$Kings_LQ-1)/clean_data$Kings_LQ)*clean_data$Kings_EMP"
   ]
  },
  {
   "cell_type": "code",
   "execution_count": 60,
   "metadata": {
    "collapsed": false
   },
   "outputs": [
    {
     "data": {
      "text/html": [
       "<div style=\"max-height:1000px;max-width:1500px;overflow:auto;\">\n",
       "<table border=\"1\" class=\"dataframe\">\n",
       "  <thead>\n",
       "    <tr style=\"text-align: right;\">\n",
       "      <th></th>\n",
       "      <th>NAICS.id</th>\n",
       "      <th>US_EMP</th>\n",
       "      <th>KINGS_EMP</th>\n",
       "      <th>KINGS_e</th>\n",
       "      <th>KINGS_E</th>\n",
       "      <th>Kings_LQ</th>\n",
       "      <th>KINGS_bi</th>\n",
       "    </tr>\n",
       "  </thead>\n",
       "  <tbody>\n",
       "    <tr>\n",
       "      <th>0 </th>\n",
       "      <td>    11</td>\n",
       "      <td>   172105</td>\n",
       "      <td>  678</td>\n",
       "      <td> 0.032938</td>\n",
       "      <td> 0.001484</td>\n",
       "      <td> 22.200649</td>\n",
       "      <td>  647.460352</td>\n",
       "    </tr>\n",
       "    <tr>\n",
       "      <th>1 </th>\n",
       "      <td>    21</td>\n",
       "      <td>   730433</td>\n",
       "      <td>  NaN</td>\n",
       "      <td>      NaN</td>\n",
       "      <td> 0.006297</td>\n",
       "      <td>       NaN</td>\n",
       "      <td>         NaN</td>\n",
       "    </tr>\n",
       "    <tr>\n",
       "      <th>2 </th>\n",
       "      <td>    22</td>\n",
       "      <td>   637247</td>\n",
       "      <td>  NaN</td>\n",
       "      <td>      NaN</td>\n",
       "      <td> 0.005493</td>\n",
       "      <td>       NaN</td>\n",
       "      <td>         NaN</td>\n",
       "    </tr>\n",
       "    <tr>\n",
       "      <th>3 </th>\n",
       "      <td>    23</td>\n",
       "      <td>  7316240</td>\n",
       "      <td>  NaN</td>\n",
       "      <td>      NaN</td>\n",
       "      <td> 0.063071</td>\n",
       "      <td>       NaN</td>\n",
       "      <td>         NaN</td>\n",
       "    </tr>\n",
       "    <tr>\n",
       "      <th>4 </th>\n",
       "      <td> 31-33</td>\n",
       "      <td> 13395670</td>\n",
       "      <td> 4291</td>\n",
       "      <td> 0.208463</td>\n",
       "      <td> 0.115480</td>\n",
       "      <td>  1.805193</td>\n",
       "      <td> 1913.968278</td>\n",
       "    </tr>\n",
       "    <tr>\n",
       "      <th>5 </th>\n",
       "      <td>    42</td>\n",
       "      <td>  6227389</td>\n",
       "      <td>  NaN</td>\n",
       "      <td>      NaN</td>\n",
       "      <td> 0.053684</td>\n",
       "      <td>       NaN</td>\n",
       "      <td>         NaN</td>\n",
       "    </tr>\n",
       "    <tr>\n",
       "      <th>6 </th>\n",
       "      <td> 44-45</td>\n",
       "      <td> 15515396</td>\n",
       "      <td> 4267</td>\n",
       "      <td> 0.207297</td>\n",
       "      <td> 0.133753</td>\n",
       "      <td>  1.549848</td>\n",
       "      <td> 1513.827634</td>\n",
       "    </tr>\n",
       "    <tr>\n",
       "      <th>7 </th>\n",
       "      <td> 48-49</td>\n",
       "      <td>  4454383</td>\n",
       "      <td>  NaN</td>\n",
       "      <td>      NaN</td>\n",
       "      <td> 0.038400</td>\n",
       "      <td>       NaN</td>\n",
       "      <td>         NaN</td>\n",
       "    </tr>\n",
       "    <tr>\n",
       "      <th>8 </th>\n",
       "      <td>    51</td>\n",
       "      <td>  3496773</td>\n",
       "      <td>  347</td>\n",
       "      <td> 0.016858</td>\n",
       "      <td> 0.030145</td>\n",
       "      <td>  0.559231</td>\n",
       "      <td> -273.494559</td>\n",
       "    </tr>\n",
       "    <tr>\n",
       "      <th>9 </th>\n",
       "      <td>    52</td>\n",
       "      <td>  6607511</td>\n",
       "      <td>  NaN</td>\n",
       "      <td>      NaN</td>\n",
       "      <td> 0.056961</td>\n",
       "      <td>       NaN</td>\n",
       "      <td>         NaN</td>\n",
       "    </tr>\n",
       "    <tr>\n",
       "      <th>10</th>\n",
       "      <td>    53</td>\n",
       "      <td>  2188479</td>\n",
       "      <td>  343</td>\n",
       "      <td> 0.016663</td>\n",
       "      <td> 0.018866</td>\n",
       "      <td>  0.883245</td>\n",
       "      <td>  -45.340711</td>\n",
       "    </tr>\n",
       "    <tr>\n",
       "      <th>11</th>\n",
       "      <td>    54</td>\n",
       "      <td>  7870414</td>\n",
       "      <td>  535</td>\n",
       "      <td> 0.025991</td>\n",
       "      <td> 0.067848</td>\n",
       "      <td>  0.383077</td>\n",
       "      <td> -861.587385</td>\n",
       "    </tr>\n",
       "    <tr>\n",
       "      <th>12</th>\n",
       "      <td>    55</td>\n",
       "      <td>  2664203</td>\n",
       "      <td>  NaN</td>\n",
       "      <td>      NaN</td>\n",
       "      <td> 0.022967</td>\n",
       "      <td>       NaN</td>\n",
       "      <td>         NaN</td>\n",
       "    </tr>\n",
       "    <tr>\n",
       "      <th>13</th>\n",
       "      <td>    56</td>\n",
       "      <td> 10250955</td>\n",
       "      <td>  567</td>\n",
       "      <td> 0.027546</td>\n",
       "      <td> 0.088370</td>\n",
       "      <td>  0.311708</td>\n",
       "      <td>-1252.009069</td>\n",
       "    </tr>\n",
       "    <tr>\n",
       "      <th>14</th>\n",
       "      <td>    61</td>\n",
       "      <td>   539951</td>\n",
       "      <td>  175</td>\n",
       "      <td> 0.008502</td>\n",
       "      <td> 0.004655</td>\n",
       "      <td>  1.826473</td>\n",
       "      <td>   79.186901</td>\n",
       "    </tr>\n",
       "    <tr>\n",
       "      <th>15</th>\n",
       "      <td>    62</td>\n",
       "      <td> 16792074</td>\n",
       "      <td> 4106</td>\n",
       "      <td> 0.199475</td>\n",
       "      <td> 0.144759</td>\n",
       "      <td>  1.377984</td>\n",
       "      <td> 1126.283974</td>\n",
       "    </tr>\n",
       "    <tr>\n",
       "      <th>16</th>\n",
       "      <td>    71</td>\n",
       "      <td>  2061348</td>\n",
       "      <td>  484</td>\n",
       "      <td> 0.023513</td>\n",
       "      <td> 0.017770</td>\n",
       "      <td>  1.323194</td>\n",
       "      <td>  118.218401</td>\n",
       "    </tr>\n",
       "    <tr>\n",
       "      <th>17</th>\n",
       "      <td>    72</td>\n",
       "      <td> 11600751</td>\n",
       "      <td> 4209</td>\n",
       "      <td> 0.204479</td>\n",
       "      <td> 0.100006</td>\n",
       "      <td>  2.044666</td>\n",
       "      <td> 2150.472646</td>\n",
       "    </tr>\n",
       "    <tr>\n",
       "      <th>18</th>\n",
       "      <td>    81</td>\n",
       "      <td>  3479011</td>\n",
       "      <td>  582</td>\n",
       "      <td> 0.028274</td>\n",
       "      <td> 0.029991</td>\n",
       "      <td>  0.942750</td>\n",
       "      <td>  -35.342731</td>\n",
       "    </tr>\n",
       "  </tbody>\n",
       "</table>\n",
       "</div>"
      ],
      "text/plain": [
       "   NAICS.id    US_EMP  KINGS_EMP   KINGS_e   KINGS_E   Kings_LQ     KINGS_bi\n",
       "0        11    172105        678  0.032938  0.001484  22.200649   647.460352\n",
       "1        21    730433        NaN       NaN  0.006297        NaN          NaN\n",
       "2        22    637247        NaN       NaN  0.005493        NaN          NaN\n",
       "3        23   7316240        NaN       NaN  0.063071        NaN          NaN\n",
       "4     31-33  13395670       4291  0.208463  0.115480   1.805193  1913.968278\n",
       "5        42   6227389        NaN       NaN  0.053684        NaN          NaN\n",
       "6     44-45  15515396       4267  0.207297  0.133753   1.549848  1513.827634\n",
       "7     48-49   4454383        NaN       NaN  0.038400        NaN          NaN\n",
       "8        51   3496773        347  0.016858  0.030145   0.559231  -273.494559\n",
       "9        52   6607511        NaN       NaN  0.056961        NaN          NaN\n",
       "10       53   2188479        343  0.016663  0.018866   0.883245   -45.340711\n",
       "11       54   7870414        535  0.025991  0.067848   0.383077  -861.587385\n",
       "12       55   2664203        NaN       NaN  0.022967        NaN          NaN\n",
       "13       56  10250955        567  0.027546  0.088370   0.311708 -1252.009069\n",
       "14       61    539951        175  0.008502  0.004655   1.826473    79.186901\n",
       "15       62  16792074       4106  0.199475  0.144759   1.377984  1126.283974\n",
       "16       71   2061348        484  0.023513  0.017770   1.323194   118.218401\n",
       "17       72  11600751       4209  0.204479  0.100006   2.044666  2150.472646\n",
       "18       81   3479011        582  0.028274  0.029991   0.942750   -35.342731"
      ]
     },
     "execution_count": 60,
     "metadata": {},
     "output_type": "execute_result"
    }
   ],
   "source": [
    "full[\"KINGS_e\"]= full[\"KINGS_EMP\"]/ KINGSTotal\n",
    "full[\"KINGS_E\"]= full[\"US_EMP\"]/ USTotal\n",
    "full[\"Kings_LQ\"]= full[\"KINGS_e\"]/ full[\"KINGS_E\"]\n",
    "full[\"KINGS_bi\"]= ((full[\"Kings_LQ\"]- 1)/full[\"Kings_LQ\"])*full[\"KINGS_EMP\"]\n",
    "#full"
   ]
  },
  {
   "cell_type": "code",
   "execution_count": 61,
   "metadata": {
    "collapsed": true
   },
   "outputs": [],
   "source": [
    "small= full[full.KINGS_bi >=0]"
   ]
  },
  {
   "cell_type": "code",
   "execution_count": 62,
   "metadata": {
    "collapsed": false
   },
   "outputs": [
    {
     "data": {
      "text/plain": [
       "2.7265677288091412"
      ]
     },
     "execution_count": 62,
     "metadata": {},
     "output_type": "execute_result"
    }
   ],
   "source": [
    "Kings_bi_sum=small.KINGS_bi.sum()\n",
    "Kings_BM=KINGSTotal/Kings_bi_sum\n",
    "Kings_BM"
   ]
  }
 ],
 "metadata": {
  "kernelspec": {
   "display_name": "Python 2",
   "language": "python",
   "name": "python2"
  },
  "language_info": {
   "codemirror_mode": {
    "name": "ipython",
    "version": 2
   },
   "file_extension": ".py",
   "mimetype": "text/x-python",
   "name": "python",
   "nbconvert_exporter": "python",
   "pygments_lexer": "ipython2",
   "version": "2.7.9"
  }
 },
 "nbformat": 4,
 "nbformat_minor": 0
}
